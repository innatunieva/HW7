{
 "cells": [
  {
   "cell_type": "code",
   "execution_count": 1,
   "metadata": {
    "collapsed": true
   },
   "outputs": [],
   "source": [
    "from selenium import webdriver\n",
    "browser = webdriver.Chrome()\n",
    "url = 'http://rate.am/en/armenian-dram-exchange-rates/banks/non-cash'\n",
    "browser.get(url)"
   ]
  },
  {
   "cell_type": "code",
   "execution_count": 2,
   "metadata": {
    "collapsed": true
   },
   "outputs": [],
   "source": [
    "prevdat=browser.find_element_by_css_selector('#aspnetForm > div.cnt > div.cnt-body > div.cnt-left > div.rb-de > div.archive > table > tbody > tr > td:nth-child(1) > a')\n",
    "prevdat.click()"
   ]
  },
  {
   "cell_type": "code",
   "execution_count": 3,
   "metadata": {
    "collapsed": true
   },
   "outputs": [],
   "source": [
    "date_20=browser.find_element_by_css_selector('#calBorder > span > table > tbody > tr:nth-child(3) > td > table > tbody > tr:nth-child(5) > td:nth-child(4)')\n",
    "date_20.click()"
   ]
  },
  {
   "cell_type": "code",
   "execution_count": 4,
   "metadata": {
    "collapsed": true
   },
   "outputs": [],
   "source": [
    "submit=browser.find_element_by_css_selector('#ctl00_Content_RB_dtpick1_btnOk')\n",
    "submit.click()"
   ]
  },
  {
   "cell_type": "code",
   "execution_count": 5,
   "metadata": {
    "collapsed": true
   },
   "outputs": [],
   "source": [
    "import pandas as pd\n",
    "import csv\n",
    "rates = pd.read_html(browser.find_element_by_class_name(\"rb\").get_attribute('outerHTML'))\n",
    "rates = rates[0]\n",
    "data = rates[2:19]\n",
    "del rates[0]\n",
    "del rates[2]\n",
    "del rates[3]"
   ]
  },
  {
   "cell_type": "code",
   "execution_count": 6,
   "metadata": {
    "collapsed": false
   },
   "outputs": [
    {
     "data": {
      "text/html": [
       "<div>\n",
       "<table border=\"1\" class=\"dataframe\">\n",
       "  <thead>\n",
       "    <tr style=\"text-align: right;\">\n",
       "      <th></th>\n",
       "      <th>Bank Name</th>\n",
       "      <th>Date</th>\n",
       "      <th>USD/buy</th>\n",
       "      <th>USD/sell</th>\n",
       "      <th>EUR/buy</th>\n",
       "      <th>EUR/sell</th>\n",
       "      <th>RUB/buy</th>\n",
       "      <th>RUB/sell</th>\n",
       "      <th>GBP/buy</th>\n",
       "      <th>GBP/sell</th>\n",
       "    </tr>\n",
       "  </thead>\n",
       "  <tbody>\n",
       "    <tr>\n",
       "      <th>0</th>\n",
       "      <td>Bank</td>\n",
       "      <td>1 USD \\t1 EUR \\t1 RUR \\t1 GBP \\t1 GEL \\t1 CHF ...</td>\n",
       "      <td>1 USD \\t1 EUR \\t1 RUR \\t1 GBP \\t1 GEL \\t1 CHF ...</td>\n",
       "      <td>1 USD \\t1 EUR \\t1 RUR \\t1 GBP \\t1 GEL \\t1 CHF ...</td>\n",
       "      <td>1 USD \\t1 EUR \\t1 RUR \\t1 GBP \\t1 GEL \\t1 CHF ...</td>\n",
       "      <td>NaN</td>\n",
       "      <td>NaN</td>\n",
       "      <td>NaN</td>\n",
       "      <td>NaN</td>\n",
       "      <td>NaN</td>\n",
       "    </tr>\n",
       "    <tr>\n",
       "      <th>1</th>\n",
       "      <td>Sell</td>\n",
       "      <td>Buy</td>\n",
       "      <td>Sell</td>\n",
       "      <td>Buy</td>\n",
       "      <td>Sell</td>\n",
       "      <td>NaN</td>\n",
       "      <td>NaN</td>\n",
       "      <td>NaN</td>\n",
       "      <td>NaN</td>\n",
       "      <td>NaN</td>\n",
       "    </tr>\n",
       "    <tr>\n",
       "      <th>2</th>\n",
       "      <td>Էյչ-Էս-Բի-Սի Բանկ</td>\n",
       "      <td>20 Jul, 20:01</td>\n",
       "      <td>476.50</td>\n",
       "      <td>480.50</td>\n",
       "      <td>550</td>\n",
       "      <td>558.0</td>\n",
       "      <td>7.99</td>\n",
       "      <td>8.23</td>\n",
       "      <td>616.5</td>\n",
       "      <td>625.5</td>\n",
       "    </tr>\n",
       "    <tr>\n",
       "      <th>3</th>\n",
       "      <td>Յունիբանկ</td>\n",
       "      <td>20 Jul, 20:00</td>\n",
       "      <td>476.50</td>\n",
       "      <td>480</td>\n",
       "      <td>546</td>\n",
       "      <td>556.0</td>\n",
       "      <td>8.00</td>\n",
       "      <td>8.25</td>\n",
       "      <td>612.0</td>\n",
       "      <td>632.0</td>\n",
       "    </tr>\n",
       "    <tr>\n",
       "      <th>4</th>\n",
       "      <td>ՀԱՅԲԻԶՆԵՍԲԱՆԿ ՓԲԸ</td>\n",
       "      <td>20 Jul, 20:00</td>\n",
       "      <td>477</td>\n",
       "      <td>480</td>\n",
       "      <td>547.10</td>\n",
       "      <td>554.1</td>\n",
       "      <td>8.02</td>\n",
       "      <td>8.24</td>\n",
       "      <td>617.1</td>\n",
       "      <td>629.1</td>\n",
       "    </tr>\n",
       "    <tr>\n",
       "      <th>5</th>\n",
       "      <td>Անելիք Բանկ</td>\n",
       "      <td>20 Jul, 20:00</td>\n",
       "      <td>477</td>\n",
       "      <td>480.50</td>\n",
       "      <td>546</td>\n",
       "      <td>556.0</td>\n",
       "      <td>8.04</td>\n",
       "      <td>8.22</td>\n",
       "      <td>NaN</td>\n",
       "      <td>NaN</td>\n",
       "    </tr>\n",
       "    <tr>\n",
       "      <th>6</th>\n",
       "      <td>Արցախբանկ</td>\n",
       "      <td>20 Jul, 20:00</td>\n",
       "      <td>477</td>\n",
       "      <td>480</td>\n",
       "      <td>547</td>\n",
       "      <td>555.0</td>\n",
       "      <td>7.99</td>\n",
       "      <td>8.20</td>\n",
       "      <td>614.0</td>\n",
       "      <td>629.0</td>\n",
       "    </tr>\n",
       "    <tr>\n",
       "      <th>7</th>\n",
       "      <td>Բիբլոս Բանկ Արմենիա</td>\n",
       "      <td>20 Jul, 20:00</td>\n",
       "      <td>477</td>\n",
       "      <td>480.50</td>\n",
       "      <td>547</td>\n",
       "      <td>555.0</td>\n",
       "      <td>7.99</td>\n",
       "      <td>8.24</td>\n",
       "      <td>618.0</td>\n",
       "      <td>629.0</td>\n",
       "    </tr>\n",
       "    <tr>\n",
       "      <th>8</th>\n",
       "      <td>Ամերիաբանկ</td>\n",
       "      <td>20 Jul, 20:00</td>\n",
       "      <td>476.50</td>\n",
       "      <td>480.50</td>\n",
       "      <td>551.50</td>\n",
       "      <td>559.5</td>\n",
       "      <td>7.97</td>\n",
       "      <td>8.22</td>\n",
       "      <td>616.5</td>\n",
       "      <td>626.5</td>\n",
       "    </tr>\n",
       "    <tr>\n",
       "      <th>9</th>\n",
       "      <td>ԱԿԲԱ-ԿՐԵԴԻՏ ԱԳՐԻԿՈԼ ..</td>\n",
       "      <td>20 Jul, 20:00</td>\n",
       "      <td>477</td>\n",
       "      <td>480.50</td>\n",
       "      <td>546.50</td>\n",
       "      <td>554.0</td>\n",
       "      <td>8.05</td>\n",
       "      <td>8.18</td>\n",
       "      <td>612.0</td>\n",
       "      <td>627.0</td>\n",
       "    </tr>\n",
       "    <tr>\n",
       "      <th>10</th>\n",
       "      <td>ՎՏԲ-Հայաստան Բանկ</td>\n",
       "      <td>20 Jul, 20:00</td>\n",
       "      <td>477.25</td>\n",
       "      <td>480</td>\n",
       "      <td>547</td>\n",
       "      <td>553.5</td>\n",
       "      <td>8.06</td>\n",
       "      <td>8.18</td>\n",
       "      <td>619.0</td>\n",
       "      <td>630.0</td>\n",
       "    </tr>\n",
       "    <tr>\n",
       "      <th>11</th>\n",
       "      <td>ՀԱՅԷԿՈՆՈՄԲԱՆԿ</td>\n",
       "      <td>20 Jul, 20:00</td>\n",
       "      <td>477</td>\n",
       "      <td>480.50</td>\n",
       "      <td>547</td>\n",
       "      <td>555.0</td>\n",
       "      <td>8.06</td>\n",
       "      <td>8.23</td>\n",
       "      <td>611.0</td>\n",
       "      <td>630.0</td>\n",
       "    </tr>\n",
       "    <tr>\n",
       "      <th>12</th>\n",
       "      <td>Կոնվերս բանկ</td>\n",
       "      <td>20 Jul, 20:00</td>\n",
       "      <td>476.50</td>\n",
       "      <td>480</td>\n",
       "      <td>547</td>\n",
       "      <td>555.0</td>\n",
       "      <td>8.02</td>\n",
       "      <td>8.21</td>\n",
       "      <td>619.0</td>\n",
       "      <td>627.0</td>\n",
       "    </tr>\n",
       "    <tr>\n",
       "      <th>13</th>\n",
       "      <td>Ինեկոբանկ</td>\n",
       "      <td>20 Jul, 20:00</td>\n",
       "      <td>477.25</td>\n",
       "      <td>480.25</td>\n",
       "      <td>547</td>\n",
       "      <td>559.0</td>\n",
       "      <td>7.95</td>\n",
       "      <td>8.20</td>\n",
       "      <td>613.0</td>\n",
       "      <td>626.0</td>\n",
       "    </tr>\n",
       "    <tr>\n",
       "      <th>14</th>\n",
       "      <td>Մելլաթ բանկ</td>\n",
       "      <td>20 Jul, 20:00</td>\n",
       "      <td>476</td>\n",
       "      <td>480</td>\n",
       "      <td>547</td>\n",
       "      <td>555.0</td>\n",
       "      <td>NaN</td>\n",
       "      <td>NaN</td>\n",
       "      <td>NaN</td>\n",
       "      <td>NaN</td>\n",
       "    </tr>\n",
       "    <tr>\n",
       "      <th>15</th>\n",
       "      <td>Արմսվիսբանկ</td>\n",
       "      <td>20 Jul, 20:00</td>\n",
       "      <td>477</td>\n",
       "      <td>480</td>\n",
       "      <td>548</td>\n",
       "      <td>554.0</td>\n",
       "      <td>8.04</td>\n",
       "      <td>8.22</td>\n",
       "      <td>617.0</td>\n",
       "      <td>624.0</td>\n",
       "    </tr>\n",
       "    <tr>\n",
       "      <th>16</th>\n",
       "      <td>Արդշինբանկ</td>\n",
       "      <td>20 Jul, 20:00</td>\n",
       "      <td>477.50</td>\n",
       "      <td>480.50</td>\n",
       "      <td>548</td>\n",
       "      <td>558.0</td>\n",
       "      <td>7.97</td>\n",
       "      <td>8.22</td>\n",
       "      <td>618.0</td>\n",
       "      <td>633.0</td>\n",
       "    </tr>\n",
       "    <tr>\n",
       "      <th>17</th>\n",
       "      <td>Պրոմեթեյ Բանկ</td>\n",
       "      <td>20 Jul, 20:00</td>\n",
       "      <td>477</td>\n",
       "      <td>480</td>\n",
       "      <td>548</td>\n",
       "      <td>556.0</td>\n",
       "      <td>8.06</td>\n",
       "      <td>8.16</td>\n",
       "      <td>614.0</td>\n",
       "      <td>625.0</td>\n",
       "    </tr>\n",
       "    <tr>\n",
       "      <th>18</th>\n",
       "      <td>ԱՐԱՐԱՏԲԱՆԿ</td>\n",
       "      <td>20 Jul, 20:00</td>\n",
       "      <td>477.50</td>\n",
       "      <td>480.50</td>\n",
       "      <td>543</td>\n",
       "      <td>561.0</td>\n",
       "      <td>8.04</td>\n",
       "      <td>8.25</td>\n",
       "      <td>610.0</td>\n",
       "      <td>633.0</td>\n",
       "    </tr>\n",
       "    <tr>\n",
       "      <th>19</th>\n",
       "      <td>NaN</td>\n",
       "      <td>NaN</td>\n",
       "      <td>NaN</td>\n",
       "      <td>NaN</td>\n",
       "      <td>NaN</td>\n",
       "      <td>NaN</td>\n",
       "      <td>NaN</td>\n",
       "      <td>NaN</td>\n",
       "      <td>NaN</td>\n",
       "      <td>NaN</td>\n",
       "    </tr>\n",
       "  </tbody>\n",
       "</table>\n",
       "</div>"
      ],
      "text/plain": [
       "                 Bank Name                                               Date  \\\n",
       "0                     Bank  1 USD \\t1 EUR \\t1 RUR \\t1 GBP \\t1 GEL \\t1 CHF ...   \n",
       "1                     Sell                                                Buy   \n",
       "2        Էյչ-Էս-Բի-Սի Բանկ                                      20 Jul, 20:01   \n",
       "3                Յունիբանկ                                      20 Jul, 20:00   \n",
       "4        ՀԱՅԲԻԶՆԵՍԲԱՆԿ ՓԲԸ                                      20 Jul, 20:00   \n",
       "5              Անելիք Բանկ                                      20 Jul, 20:00   \n",
       "6                Արցախբանկ                                      20 Jul, 20:00   \n",
       "7      Բիբլոս Բանկ Արմենիա                                      20 Jul, 20:00   \n",
       "8               Ամերիաբանկ                                      20 Jul, 20:00   \n",
       "9   ԱԿԲԱ-ԿՐԵԴԻՏ ԱԳՐԻԿՈԼ ..                                      20 Jul, 20:00   \n",
       "10       ՎՏԲ-Հայաստան Բանկ                                      20 Jul, 20:00   \n",
       "11           ՀԱՅԷԿՈՆՈՄԲԱՆԿ                                      20 Jul, 20:00   \n",
       "12            Կոնվերս բանկ                                      20 Jul, 20:00   \n",
       "13               Ինեկոբանկ                                      20 Jul, 20:00   \n",
       "14             Մելլաթ բանկ                                      20 Jul, 20:00   \n",
       "15             Արմսվիսբանկ                                      20 Jul, 20:00   \n",
       "16              Արդշինբանկ                                      20 Jul, 20:00   \n",
       "17           Պրոմեթեյ Բանկ                                      20 Jul, 20:00   \n",
       "18              ԱՐԱՐԱՏԲԱՆԿ                                      20 Jul, 20:00   \n",
       "19                     NaN                                                NaN   \n",
       "\n",
       "                                              USD/buy  \\\n",
       "0   1 USD \\t1 EUR \\t1 RUR \\t1 GBP \\t1 GEL \\t1 CHF ...   \n",
       "1                                                Sell   \n",
       "2                                              476.50   \n",
       "3                                              476.50   \n",
       "4                                                 477   \n",
       "5                                                 477   \n",
       "6                                                 477   \n",
       "7                                                 477   \n",
       "8                                              476.50   \n",
       "9                                                 477   \n",
       "10                                             477.25   \n",
       "11                                                477   \n",
       "12                                             476.50   \n",
       "13                                             477.25   \n",
       "14                                                476   \n",
       "15                                                477   \n",
       "16                                             477.50   \n",
       "17                                                477   \n",
       "18                                             477.50   \n",
       "19                                                NaN   \n",
       "\n",
       "                                             USD/sell  \\\n",
       "0   1 USD \\t1 EUR \\t1 RUR \\t1 GBP \\t1 GEL \\t1 CHF ...   \n",
       "1                                                 Buy   \n",
       "2                                              480.50   \n",
       "3                                                 480   \n",
       "4                                                 480   \n",
       "5                                              480.50   \n",
       "6                                                 480   \n",
       "7                                              480.50   \n",
       "8                                              480.50   \n",
       "9                                              480.50   \n",
       "10                                                480   \n",
       "11                                             480.50   \n",
       "12                                                480   \n",
       "13                                             480.25   \n",
       "14                                                480   \n",
       "15                                                480   \n",
       "16                                             480.50   \n",
       "17                                                480   \n",
       "18                                             480.50   \n",
       "19                                                NaN   \n",
       "\n",
       "                                              EUR/buy  EUR/sell  RUB/buy  \\\n",
       "0   1 USD \\t1 EUR \\t1 RUR \\t1 GBP \\t1 GEL \\t1 CHF ...       NaN      NaN   \n",
       "1                                                Sell       NaN      NaN   \n",
       "2                                                 550     558.0     7.99   \n",
       "3                                                 546     556.0     8.00   \n",
       "4                                              547.10     554.1     8.02   \n",
       "5                                                 546     556.0     8.04   \n",
       "6                                                 547     555.0     7.99   \n",
       "7                                                 547     555.0     7.99   \n",
       "8                                              551.50     559.5     7.97   \n",
       "9                                              546.50     554.0     8.05   \n",
       "10                                                547     553.5     8.06   \n",
       "11                                                547     555.0     8.06   \n",
       "12                                                547     555.0     8.02   \n",
       "13                                                547     559.0     7.95   \n",
       "14                                                547     555.0      NaN   \n",
       "15                                                548     554.0     8.04   \n",
       "16                                                548     558.0     7.97   \n",
       "17                                                548     556.0     8.06   \n",
       "18                                                543     561.0     8.04   \n",
       "19                                                NaN       NaN      NaN   \n",
       "\n",
       "    RUB/sell  GBP/buy  GBP/sell  \n",
       "0        NaN      NaN       NaN  \n",
       "1        NaN      NaN       NaN  \n",
       "2       8.23    616.5     625.5  \n",
       "3       8.25    612.0     632.0  \n",
       "4       8.24    617.1     629.1  \n",
       "5       8.22      NaN       NaN  \n",
       "6       8.20    614.0     629.0  \n",
       "7       8.24    618.0     629.0  \n",
       "8       8.22    616.5     626.5  \n",
       "9       8.18    612.0     627.0  \n",
       "10      8.18    619.0     630.0  \n",
       "11      8.23    611.0     630.0  \n",
       "12      8.21    619.0     627.0  \n",
       "13      8.20    613.0     626.0  \n",
       "14       NaN      NaN       NaN  \n",
       "15      8.22    617.0     624.0  \n",
       "16      8.22    618.0     633.0  \n",
       "17      8.16    614.0     625.0  \n",
       "18      8.25    610.0     633.0  \n",
       "19       NaN      NaN       NaN  "
      ]
     },
     "execution_count": 6,
     "metadata": {},
     "output_type": "execute_result"
    }
   ],
   "source": [
    "rates.columns = [\"Bank Name\", \"Date\", \"USD/buy\", \"USD/sell\", \"EUR/buy\", \"EUR/sell\", \"RUB/buy\", \"RUB/sell\", \"GBP/buy\", \"GBP/sell\"]\n",
    "from unicodecsv import*\n",
    "with open('rates_table.csv', 'w') as f:\n",
    "            rates.to_csv(f, header=True, index=False, encoding='utf-8')\n",
    "rates"
   ]
  },
  {
   "cell_type": "markdown",
   "metadata": {
    "collapsed": true
   },
   "source": [
    "browser.close()"
   ]
  },
  {
   "cell_type": "code",
   "execution_count": 8,
   "metadata": {
    "collapsed": true
   },
   "outputs": [],
   "source": [
    "#2"
   ]
  },
  {
   "cell_type": "code",
   "execution_count": 9,
   "metadata": {
    "collapsed": true
   },
   "outputs": [],
   "source": [
    "from selenium import webdriver\n",
    "browser = webdriver.Chrome()\n",
    "browser.get('https://staff.am/en')"
   ]
  },
  {
   "cell_type": "code",
   "execution_count": 10,
   "metadata": {
    "collapsed": true
   },
   "outputs": [],
   "source": [
    "element=browser.find_element_by_css_selector('#jobsearchform-type > label:nth-child(2) > input[type=\"radio\"]')\n",
    "element.click()\n",
    "button=browser.find_element_by_css_selector('#w0 > div > div.col-lg-2.col-sm-2.search-btn > button')\n",
    "button.click()"
   ]
  },
  {
   "cell_type": "code",
   "execution_count": 11,
   "metadata": {
    "collapsed": true
   },
   "outputs": [],
   "source": [
    "my_list=browser.find_elements_by_class_name(\"job-list-item\")"
   ]
  },
  {
   "cell_type": "code",
   "execution_count": 12,
   "metadata": {
    "collapsed": true
   },
   "outputs": [],
   "source": [
    "import re\n",
    "all_prices=[]\n",
    "for i in my_list:\n",
    "    price=re.findall('Price:\\s+(.+\\s*.+)',i.text)\n",
    "    all_prices.append(price)"
   ]
  },
  {
   "cell_type": "code",
   "execution_count": 13,
   "metadata": {
    "collapsed": true
   },
   "outputs": [],
   "source": [
    "for i in range(len(all_prices)):\n",
    "    all_prices[i]=all_prices[i][0]"
   ]
  },
  {
   "cell_type": "code",
   "execution_count": 14,
   "metadata": {
    "collapsed": true
   },
   "outputs": [],
   "source": [
    "page2=browser.find_element_by_css_selector('#job-list-pagination > ul > li:nth-child(3) > a')\n",
    "page2.click()"
   ]
  },
  {
   "cell_type": "code",
   "execution_count": 15,
   "metadata": {
    "collapsed": false
   },
   "outputs": [
    {
     "data": {
      "text/plain": [
       "[[u'FREE\\ne-learning'], [u'FREE\\ne-learning'], [u'FREE\\ne-learning']]"
      ]
     },
     "execution_count": 15,
     "metadata": {},
     "output_type": "execute_result"
    }
   ],
   "source": [
    "new_list=browser.find_elements_by_class_name(\"job-list-item\")\n",
    "all_prices_2=[]\n",
    "for i in new_list:\n",
    "    price=re.findall('Price:\\s+(.+\\s*.+)',i.text)\n",
    "    all_prices_2.append(price)\n",
    "all_prices_2"
   ]
  },
  {
   "cell_type": "code",
   "execution_count": 16,
   "metadata": {
    "collapsed": true
   },
   "outputs": [],
   "source": [
    "for i in range(len(all_prices_2)):\n",
    "    all_prices_2[i]=all_prices_2[i][0]"
   ]
  },
  {
   "cell_type": "code",
   "execution_count": 17,
   "metadata": {
    "collapsed": false
   },
   "outputs": [
    {
     "data": {
      "text/plain": [
       "[u'57500 AMD\\ne-learning',\n",
       " u'FREE\\ne-learning',\n",
       " u'84000 AMD\\nTraining',\n",
       " u'48000 AMD\\nTraining',\n",
       " u'50000 AMD\\nTraining',\n",
       " u'69000 AMD\\nTraining',\n",
       " u'FREE\\ne-learning',\n",
       " u'FREE\\ne-learning',\n",
       " u'FREE\\ne-learning',\n",
       " u'FREE\\ne-learning',\n",
       " u'FREE\\ne-learning',\n",
       " u'FREE\\ne-learning',\n",
       " u'FREE\\ne-learning',\n",
       " u'73000 AMD\\nTraining',\n",
       " u'52000 AMD\\nTraining',\n",
       " u'96000 AMD\\ne-learning',\n",
       " u'45000 AMD\\nTraining',\n",
       " u'96000 AMD\\ne-learning',\n",
       " u'125000 AMD\\nTraining',\n",
       " u'4800 AMD\\ne-learning',\n",
       " u'FREE\\ne-learning',\n",
       " u'FREE\\ne-learning',\n",
       " u'FREE\\ne-learning']"
      ]
     },
     "execution_count": 17,
     "metadata": {},
     "output_type": "execute_result"
    }
   ],
   "source": [
    "for i in all_prices_2:\n",
    "    all_prices.append(i)\n",
    "all_prices"
   ]
  },
  {
   "cell_type": "code",
   "execution_count": 19,
   "metadata": {
    "collapsed": false
   },
   "outputs": [
    {
     "name": "stdout",
     "output_type": "stream",
     "text": [
      "['57500', '84000', '48000', '50000', '69000', '73000', '52000', '96000', '45000', '96000', '125000', '4800']\n"
     ]
    }
   ],
   "source": [
    "# i am excluding all free trainings to get the precise average value for paid training\n",
    "digits=str(all_prices)\n",
    "x=re.sub(r',', r'',digits)\n",
    "y=re.findall('([0-9]+)',x)\n",
    "\n",
    "print(y)"
   ]
  },
  {
   "cell_type": "code",
   "execution_count": 20,
   "metadata": {
    "collapsed": false
   },
   "outputs": [
    {
     "data": {
      "text/plain": [
       "[57500,\n",
       " 84000,\n",
       " 48000,\n",
       " 50000,\n",
       " 69000,\n",
       " 73000,\n",
       " 52000,\n",
       " 96000,\n",
       " 45000,\n",
       " 96000,\n",
       " 125000,\n",
       " 4800]"
      ]
     },
     "execution_count": 20,
     "metadata": {},
     "output_type": "execute_result"
    }
   ],
   "source": [
    "x=[]\n",
    "for i in y:\n",
    "    x.append(int(i))\n",
    "x"
   ]
  },
  {
   "cell_type": "code",
   "execution_count": 21,
   "metadata": {
    "collapsed": false
   },
   "outputs": [
    {
     "data": {
      "text/plain": [
       "66691"
      ]
     },
     "execution_count": 21,
     "metadata": {},
     "output_type": "execute_result"
    }
   ],
   "source": [
    "average=sum(x)/len(x)\n",
    "average"
   ]
  },
  {
   "cell_type": "code",
   "execution_count": 22,
   "metadata": {
    "collapsed": true
   },
   "outputs": [],
   "source": [
    "#3"
   ]
  },
  {
   "cell_type": "code",
   "execution_count": null,
   "metadata": {
    "collapsed": true
   },
   "outputs": [],
   "source": []
  }
 ],
 "metadata": {
  "kernelspec": {
   "display_name": "Python 2",
   "language": "python",
   "name": "python2"
  },
  "language_info": {
   "codemirror_mode": {
    "name": "ipython",
    "version": 2
   },
   "file_extension": ".py",
   "mimetype": "text/x-python",
   "name": "python",
   "nbconvert_exporter": "python",
   "pygments_lexer": "ipython2",
   "version": "2.7.13"
  }
 },
 "nbformat": 4,
 "nbformat_minor": 2
}
